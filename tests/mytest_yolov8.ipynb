{
 "cells": [
  {
   "cell_type": "code",
   "execution_count": 21,
   "metadata": {},
   "outputs": [],
   "source": [
    "from ultralytics import YOLO\n",
    "from PIL import Image\n",
    "import uuid\n",
    "import os"
   ]
  },
  {
   "cell_type": "code",
   "execution_count": 11,
   "metadata": {},
   "outputs": [
    {
     "name": "stdout",
     "output_type": "stream",
     "text": [
      "\n",
      "image 1/1 C:\\Users\\alexa\\Dropbox\\My PC (LAPTOP-TALO5C9C)\\Downloads\\test_image.jpg: 352x640 2 persons, 1 horse, 2 cows, 1 tv, 284.0ms\n",
      "Speed: 14.0ms preprocess, 284.0ms inference, 21.0ms postprocess per image at shape (1, 3, 352, 640)\n"
     ]
    }
   ],
   "source": [
    "model = YOLO(\"yolov8n.pt\")\n",
    "\n",
    "results = model(\"C:/Users/alexa/Dropbox/My PC (LAPTOP-TALO5C9C)/Downloads/test_image.jpg\")\n"
   ]
  },
  {
   "cell_type": "code",
   "execution_count": 12,
   "metadata": {},
   "outputs": [
    {
     "name": "stdout",
     "output_type": "stream",
     "text": [
      "Type:  <class 'list'>\n",
      "Result: [ultralytics.engine.results.Results object with attributes:\n",
      "\n",
      "boxes: ultralytics.engine.results.Boxes object\n",
      "keypoints: None\n",
      "masks: None\n",
      "names: {0: 'person', 1: 'bicycle', 2: 'car', 3: 'motorcycle', 4: 'airplane', 5: 'bus', 6: 'train', 7: 'truck', 8: 'boat', 9: 'traffic light', 10: 'fire hydrant', 11: 'stop sign', 12: 'parking meter', 13: 'bench', 14: 'bird', 15: 'cat', 16: 'dog', 17: 'horse', 18: 'sheep', 19: 'cow', 20: 'elephant', 21: 'bear', 22: 'zebra', 23: 'giraffe', 24: 'backpack', 25: 'umbrella', 26: 'handbag', 27: 'tie', 28: 'suitcase', 29: 'frisbee', 30: 'skis', 31: 'snowboard', 32: 'sports ball', 33: 'kite', 34: 'baseball bat', 35: 'baseball glove', 36: 'skateboard', 37: 'surfboard', 38: 'tennis racket', 39: 'bottle', 40: 'wine glass', 41: 'cup', 42: 'fork', 43: 'knife', 44: 'spoon', 45: 'bowl', 46: 'banana', 47: 'apple', 48: 'sandwich', 49: 'orange', 50: 'broccoli', 51: 'carrot', 52: 'hot dog', 53: 'pizza', 54: 'donut', 55: 'cake', 56: 'chair', 57: 'couch', 58: 'potted plant', 59: 'bed', 60: 'dining table', 61: 'toilet', 62: 'tv', 63: 'laptop', 64: 'mouse', 65: 'remote', 66: 'keyboard', 67: 'cell phone', 68: 'microwave', 69: 'oven', 70: 'toaster', 71: 'sink', 72: 'refrigerator', 73: 'book', 74: 'clock', 75: 'vase', 76: 'scissors', 77: 'teddy bear', 78: 'hair drier', 79: 'toothbrush'}\n",
      "orig_img: array([[[248, 248, 248],\n",
      "        [255, 255, 255],\n",
      "        [248, 248, 248],\n",
      "        ...,\n",
      "        [255, 255, 255],\n",
      "        [255, 255, 255],\n",
      "        [255, 255, 255]],\n",
      "\n",
      "       [[247, 247, 247],\n",
      "        [249, 249, 249],\n",
      "        [250, 250, 250],\n",
      "        ...,\n",
      "        [255, 255, 255],\n",
      "        [255, 255, 255],\n",
      "        [255, 255, 255]],\n",
      "\n",
      "       [[255, 255, 255],\n",
      "        [255, 255, 255],\n",
      "        [255, 255, 255],\n",
      "        ...,\n",
      "        [255, 255, 255],\n",
      "        [255, 255, 255],\n",
      "        [255, 255, 255]],\n",
      "\n",
      "       ...,\n",
      "\n",
      "       [[255, 247, 249],\n",
      "        [255, 250, 251],\n",
      "        [255, 254, 254],\n",
      "        ...,\n",
      "        [255, 255, 252],\n",
      "        [255, 255, 252],\n",
      "        [255, 255, 252]],\n",
      "\n",
      "       [[255, 251, 253],\n",
      "        [255, 251, 252],\n",
      "        [255, 253, 253],\n",
      "        ...,\n",
      "        [249, 250, 248],\n",
      "        [254, 255, 253],\n",
      "        [255, 255, 255]],\n",
      "\n",
      "       [[255, 252, 253],\n",
      "        [253, 248, 249],\n",
      "        [245, 245, 245],\n",
      "        ...,\n",
      "        [254, 253, 255],\n",
      "        [255, 254, 255],\n",
      "        [255, 254, 255]]], dtype=uint8)\n",
      "orig_shape: (159, 317)\n",
      "path: 'C:\\\\Users\\\\alexa\\\\Dropbox\\\\My PC (LAPTOP-TALO5C9C)\\\\Downloads\\\\test_image.jpg'\n",
      "probs: None\n",
      "save_dir: None\n",
      "speed: {'preprocess': 14.001131057739258, 'inference': 284.02185440063477, 'postprocess': 20.980119705200195}]\n"
     ]
    }
   ],
   "source": [
    "print(\"Type: \", type(results))\n",
    "print(f\"Result: {results}\")\n"
   ]
  },
  {
   "cell_type": "code",
   "execution_count": 17,
   "metadata": {},
   "outputs": [],
   "source": [
    "# Show the results\n",
    "for r in results:\n",
    "    im_array = r.plot()  # plot a BGR numpy array of predictions\n",
    "    im = Image.fromarray(im_array[..., ::-1])  # RGB PIL image\n",
    "    # im.show()"
   ]
  },
  {
   "cell_type": "code",
   "execution_count": 18,
   "metadata": {},
   "outputs": [
    {
     "name": "stdout",
     "output_type": "stream",
     "text": [
      "<class 'PIL.Image.Image'>\n"
     ]
    }
   ],
   "source": [
    "print(type(im))"
   ]
  },
  {
   "cell_type": "code",
   "execution_count": 22,
   "metadata": {},
   "outputs": [
    {
     "name": "stdout",
     "output_type": "stream",
     "text": [
      "d2fc5d72-d39e-4ec2-9fd2-385dbc9ef752.jpg\n"
     ]
    }
   ],
   "source": [
    "local_results_path = f\"{str(uuid.uuid4())}.jpg\"\n",
    "im.save(local_results_path)\n",
    "print(local_results_path)"
   ]
  },
  {
   "cell_type": "code",
   "execution_count": 23,
   "metadata": {},
   "outputs": [
    {
     "name": "stdout",
     "output_type": "stream",
     "text": [
      "d2fc5d72-d39e-4ec2-9fd2-385dbc9ef752.jpg\n"
     ]
    }
   ],
   "source": [
    "object_name = f\"{os.path.basename(local_results_path)}\"\n",
    "print(object_name)"
   ]
  },
  {
   "cell_type": "code",
   "execution_count": null,
   "metadata": {},
   "outputs": [],
   "source": []
  }
 ],
 "metadata": {
  "kernelspec": {
   "display_name": "venv",
   "language": "python",
   "name": "python3"
  },
  "language_info": {
   "codemirror_mode": {
    "name": "ipython",
    "version": 3
   },
   "file_extension": ".py",
   "mimetype": "text/x-python",
   "name": "python",
   "nbconvert_exporter": "python",
   "pygments_lexer": "ipython3",
   "version": "3.11.0"
  }
 },
 "nbformat": 4,
 "nbformat_minor": 2
}
